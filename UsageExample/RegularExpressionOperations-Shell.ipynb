{
 "cells": [
  {
   "cell_type": "markdown",
   "metadata": {},
   "source": [
    "<h1>Introduction to Python Regex Module</h1>\n",
    "In this notebook, we explore regex module functions and capabilities<br>\n",
    "https://docs.python.org/3/library/re.html"
   ]
  },
  {
   "cell_type": "code",
   "execution_count": 2,
   "metadata": {},
   "outputs": [],
   "source": [
    "# import python regex module\n",
    "import re               "
   ]
  },
  {
   "cell_type": "markdown",
   "metadata": {},
   "source": [
    "<h2>Raw String and Regular String</h2>\n",
    "Always use Raw string for Regex Patterns"
   ]
  },
  {
   "cell_type": "code",
   "execution_count": 10,
   "metadata": {},
   "outputs": [
    {
     "name": "stdout",
     "output_type": "stream",
     "text": [
      "43 at index:  0\n"
     ]
    }
   ],
   "source": [
    "pattern =r'\\d+'\n",
    "text = '43 is my lucky number'\n",
    "m = re.match(pattern, text)\n",
    "print(m.group(0), 'at index:',m.start()) if m else print('No match')"
   ]
  },
  {
   "cell_type": "markdown",
   "metadata": {},
   "source": [
    "<h2>re.match - Find first match</h2>\n",
    "Find match at the beginning of a string<br>\n",
    "Useful for validating input from users"
   ]
  },
  {
   "cell_type": "code",
   "execution_count": 36,
   "metadata": {},
   "outputs": [
    {
     "data": {
      "text/plain": [
       "False"
      ]
     },
     "execution_count": 36,
     "metadata": {},
     "output_type": "execute_result"
    }
   ],
   "source": [
    "def is_integer(text):\n",
    "    pattern = r'^\\d+$'\n",
    "    match = re.search(pattern, text)\n",
    "\n",
    "    return True if match else False\n",
    "\n",
    "is_integer(\"00 Hi my name is Pedro im 34 years old\")"
   ]
  },
  {
   "cell_type": "markdown",
   "metadata": {},
   "source": [
    "<h3>input validation</h3>"
   ]
  },
  {
   "cell_type": "code",
   "execution_count": 37,
   "metadata": {},
   "outputs": [
    {
     "data": {
      "text/plain": [
       "'Test complete'"
      ]
     },
     "execution_count": 37,
     "metadata": {},
     "output_type": "execute_result"
    }
   ],
   "source": [
    "def test_is_integer():\n",
    "    pass_list = ['123','456','900','0091']\n",
    "    fail_list = ['a123','124a','1 2 3','1\\t2',' 12','45 ']\n",
    "\n",
    "    for text in pass_list:\n",
    "        if not(is_integer(text)):\n",
    "            print('Failed to detect an integer', text)\n",
    "    \n",
    "    for text in fail_list:\n",
    "        if is_integer(text):\n",
    "            print('Incorrectly classified as an integer', text)\n",
    "\n",
    "    return 'Test complete'\n",
    "\n",
    "test_is_integer()\n"
   ]
  },
  {
   "cell_type": "markdown",
   "metadata": {},
   "source": [
    "<h2>re.search - Find the first match anywhere</h2>"
   ]
  },
  {
   "cell_type": "code",
   "execution_count": 40,
   "metadata": {
    "scrolled": true
   },
   "outputs": [
    {
     "name": "stdout",
     "output_type": "stream",
     "text": [
      "23 at index: 0\n"
     ]
    }
   ],
   "source": [
    "pattern = r'\\d+'\n",
    "text = '23 is my lucky number 43'\n",
    "m = re.search(pattern, text)\n",
    "print(m.group(0), 'at index:',m.start()) if m else print('No match')"
   ]
  },
  {
   "cell_type": "markdown",
   "metadata": {},
   "source": [
    "<h4>TODO: Modify is_integer to use search method</h4>"
   ]
  },
  {
   "cell_type": "markdown",
   "metadata": {},
   "source": [
    "<h2>re.findall - Find all the matches</h2>\n",
    "method returns only after scanning the entire text"
   ]
  },
  {
   "cell_type": "code",
   "execution_count": 44,
   "metadata": {},
   "outputs": [
    {
     "name": "stdout",
     "output_type": "stream",
     "text": [
      "['23', '43']\n"
     ]
    }
   ],
   "source": [
    "pattern = r'\\d+'\n",
    "text = '23 is my lucky number 43'\n",
    "m = re.findall(pattern, text)\n",
    "print(m) if m else print('No match')"
   ]
  },
  {
   "cell_type": "markdown",
   "metadata": {},
   "source": [
    "<h2>re.finditer - Iterator</h2>\n",
    "method returns an iterator with the first match and you have control to ask for more matches"
   ]
  },
  {
   "cell_type": "code",
   "execution_count": 46,
   "metadata": {},
   "outputs": [
    {
     "name": "stdout",
     "output_type": "stream",
     "text": [
      "5100\n",
      "5021\n",
      "5000\n",
      "5152\n"
     ]
    }
   ],
   "source": [
    "pattern = r'\\d+'\n",
    "text = 'The postal code of CBA is 5100, 5021, 5000, 5152'\n",
    "matches = re.finditer(pattern, text)\n",
    "\n",
    "for match in matches:\n",
    "    print(match.group(0))"
   ]
  },
  {
   "cell_type": "markdown",
   "metadata": {},
   "source": [
    "<h2>groups - find sub matches </h2>"
   ]
  },
  {
   "cell_type": "code",
   "execution_count": 57,
   "metadata": {},
   "outputs": [
    {
     "name": "stdout",
     "output_type": "stream",
     "text": [
      "20200920 |in groups ('2020', '09', '20') |at index: 12\n",
      "0 2020\n",
      "1 09\n",
      "2 20\n"
     ]
    }
   ],
   "source": [
    "text = 'Start date: 20200920'\n",
    "pattern =r'(\\d{4})(\\d{2})(\\d{2})'\n",
    "m = re.search(pattern, text)\n",
    "print(m.group(0), '|in groups', m.groups() ,'|at index:',m.start()) if m else print('No match')\n"
   ]
  },
  {
   "cell_type": "markdown",
   "metadata": {},
   "source": [
    "<h3>named groups</h3>"
   ]
  },
  {
   "cell_type": "code",
   "execution_count": 59,
   "metadata": {},
   "outputs": [
    {
     "name": "stdout",
     "output_type": "stream",
     "text": [
      "year =  2020\n"
     ]
    }
   ],
   "source": [
    "print('year = ', m.group(1))"
   ]
  },
  {
   "cell_type": "markdown",
   "metadata": {},
   "source": [
    "<h3>access by group name</h3>"
   ]
  },
  {
   "cell_type": "code",
   "execution_count": null,
   "metadata": {},
   "outputs": [],
   "source": [
    "for index, value in enumerate(m.groups()):\n",
    "    print(index, value)"
   ]
  },
  {
   "cell_type": "markdown",
   "metadata": {},
   "source": [
    "<h2>re.sub - find and replace</h2>"
   ]
  },
  {
   "cell_type": "markdown",
   "metadata": {},
   "source": [
    "<h3>two patterns: one to find the text and another pattern with replacement text</h3>"
   ]
  },
  {
   "cell_type": "code",
   "execution_count": 61,
   "metadata": {},
   "outputs": [
    {
     "name": "stdout",
     "output_type": "stream",
     "text": [
      "Start date = 09-20-2020\n",
      "End date = 09-20-2021\n"
     ]
    }
   ],
   "source": [
    "pattern = r'(?P<year>\\d{4})(?P<month>\\d{2})(?P<day>\\d{2})'\n",
    "texts = 'Start date = 20200920', 'End date = 20210920'\n",
    "replacer_pattern = r'\\g<month>-\\g<day>-\\g<year>'\n",
    "for text in texts:\n",
    "    print(re.sub(pattern, replacer_pattern, text))"
   ]
  },
  {
   "cell_type": "markdown",
   "metadata": {},
   "source": [
    "<h3>custom function to generate replacement text</h3>"
   ]
  },
  {
   "cell_type": "code",
   "execution_count": 72,
   "metadata": {},
   "outputs": [
    {
     "name": "stdout",
     "output_type": "stream",
     "text": [
      "Start date = Sep-20-2020, End date = Sep-20-2021\n"
     ]
    }
   ],
   "source": [
    "import datetime\n",
    "\n",
    "def format_date(match):\n",
    "    in_date = match.groupdict()\n",
    "\n",
    "    year = int(in_date['year'])\n",
    "    month = int(in_date['month'])\n",
    "    day = int(in_date['day'])\n",
    "\n",
    "    return datetime.date(year, month, day).strftime('%b-%d-%Y')\n",
    "\n",
    "pattern = r'(?P<year>\\d{4})(?P<month>\\d{2})(?P<day>\\d{2})'\n",
    "texts = 'Start date = 20200920, End date = 20210920'\n",
    "text = re.sub(pattern,format_date,texts)\n",
    "print(text)"
   ]
  },
  {
   "cell_type": "markdown",
   "metadata": {},
   "source": [
    "<h2>re.split - split text based on specified pattern</h2>"
   ]
  },
  {
   "cell_type": "code",
   "execution_count": 73,
   "metadata": {},
   "outputs": [
    {
     "data": {
      "text/plain": [
       "['a-c', 'x', 'x', 't', 'y', '123']"
      ]
     },
     "execution_count": 73,
     "metadata": {},
     "output_type": "execute_result"
    }
   ],
   "source": [
    "pattern = ','\n",
    "text = 'a-c,x,x,t,y,123'\n",
    "re.split(pattern,text)"
   ]
  }
 ],
 "metadata": {
  "kernelspec": {
   "display_name": "Python 3",
   "language": "python",
   "name": "python3"
  },
  "language_info": {
   "codemirror_mode": {
    "name": "ipython",
    "version": 3
   },
   "file_extension": ".py",
   "mimetype": "text/x-python",
   "name": "python",
   "nbconvert_exporter": "python",
   "pygments_lexer": "ipython3",
   "version": "3.10.0"
  }
 },
 "nbformat": 4,
 "nbformat_minor": 1
}
